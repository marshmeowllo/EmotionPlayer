{
 "cells": [
  {
   "cell_type": "code",
   "execution_count": null,
   "metadata": {},
   "outputs": [],
   "source": [
    "import tkinter as tk\n",
    "import vlc\n",
    "import pafy\n",
    "import time"
   ]
  },
  {
   "cell_type": "code",
   "execution_count": null,
   "metadata": {},
   "outputs": [],
   "source": [
    "def play_song(Emo):\n",
    "    \n",
    "    print(Emo)\n",
    "    song_rd = Emo.sample()\n",
    "    print(song_rd)\n",
    "    url  = song_rd.iloc[0][1]\n",
    "    time_end = song_rd.iloc[0][2]\n",
    "    print(url)\n",
    "    video = pafy.new(url)\n",
    "    best = video.getbest()\n",
    "    playurl = best.url\n",
    "\n",
    "    Instance = vlc.Instance()\n",
    "    player = Instance.media_player_new()\n",
    "    Media = Instance.media_new(playurl)\n",
    "    Media.get_mrl()\n",
    "    player.set_media(Media)\n",
    "    player.play()\n",
    "    timeout = time.time() + time_end\n",
    "    while True:\n",
    "        if time.time() > timeout:\n",
    "            player.stop()\n",
    "            break"
   ]
  },
  {
   "cell_type": "code",
   "execution_count": null,
   "metadata": {},
   "outputs": [],
   "source": [
    "def play():\n",
    "    url = \"Sample link\"\n",
    "       \n",
    "    video = pafy.new(url)\n",
    "    best = video.getbest()\n",
    "    playurl = best.url\n",
    "    \n",
    "    Instance = vlc.Instance('--no-xlib --quiet')\n",
    "    player = Instance.media_player_new()\n",
    "    player.set_mrl(playurl)\n",
    "    xid = frame.winfo_id()\n",
    "    player.set_xwindow(xid)\n",
    "\n",
    "        \n",
    "    player.play()\n",
    "        \n",
    "def pause():\n",
    "    try:\n",
    "        player.pause()\n",
    "    except:\n",
    "        pass\n",
    "\n",
    "main = tk.Tk()\n",
    "main.grid()\n",
    "frame = tk.Frame(main, width=450, height=350, bd=5)\n",
    "frame.configure(bg=\"black\")\n",
    "frame.grid(row=0, column=0, columnspan=2, padx=8)\n",
    "play_button = tk.Button(main, text = 'Play', command = play)\n",
    "play_button.grid(row=1, column=0, columnspan=1, padx=8)\n",
    "stop_button = tk.Button(main, text = 'Pause', command = pause)\n",
    "stop_button.grid(row=1, column=1, columnspan=1, padx=8)\n",
    "main.mainloop()"
   ]
  }
 ],
 "metadata": {
  "kernelspec": {
   "display_name": "Python 3",
   "language": "python",
   "name": "python3"
  },
  "language_info": {
   "codemirror_mode": {
    "name": "ipython",
    "version": 3
   },
   "file_extension": ".py",
   "mimetype": "text/x-python",
   "name": "python",
   "nbconvert_exporter": "python",
   "pygments_lexer": "ipython3",
   "version": "3.10.12"
  }
 },
 "nbformat": 4,
 "nbformat_minor": 4
}
